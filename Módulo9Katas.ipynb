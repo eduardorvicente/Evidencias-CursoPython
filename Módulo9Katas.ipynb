{
  "cells": [
    {
      "cell_type": "markdown",
      "metadata": {},
      "source": [
        "# Ejercicio: Uso de funciones en Python"
      ]
    },
    {
      "cell_type": "markdown",
      "metadata": {},
      "source": [
        "### Ejercicio 1: Trabajar con argumentos en funciones\n",
        "\n",
        "Los argumentos requeridos en las funciones se utilizan cuando las funciones necesitan que esos argumentos funcionen correctamente. En este ejercicio, construirás un informe de combustible que requiere información de varias ubicaciones de combustible en todo el cohete.\n",
        "\n"
      ]
    },
    {
      "cell_type": "markdown",
      "metadata": {},
      "source": [
        "Comienza por crear una función que necesite tres lecturas de combustible y devuelva un informe:"
      ]
    },
    {
      "cell_type": "code",
      "execution_count": 6,
      "metadata": {},
      "outputs": [],
      "source": [
        "# Función para leer 3 tanques de combustible y muestre el promedio\n",
        "def reportcombus (tanque1, tanque2, tanque3):\n",
        "    promedio =(tanque1 + tanque2 + tanque3)/3\n",
        "    return f\"\"\"\n",
        "    tanque 1: {tanque1}\n",
        "    tanque 2: {tanque2}\n",
        "    tanque 3: {tanque3}\n",
        "    promedio: {promedio}\"\"\""
      ]
    },
    {
      "cell_type": "markdown",
      "metadata": {},
      "source": [
        "Ahora que hemos definido la función de informes, vamos a comprobarlo. Para esta misión, los tanques no están llenos:"
      ]
    },
    {
      "cell_type": "code",
      "execution_count": 7,
      "metadata": {},
      "outputs": [
        {
          "name": "stdout",
          "output_type": "stream",
          "text": [
            "\n",
            "    tanque 1: 0\n",
            "    tanque 2: 0\n",
            "    tanque 3: 0\n",
            "    promedio: 0.0\n"
          ]
        }
      ],
      "source": [
        "\n",
        "# Llamamos a la función que genera el reporte print(funcion(tanque1, tanque2, tanque3))\n",
        "\n",
        "print(reportcombus(0,0,0))"
      ]
    },
    {
      "cell_type": "markdown",
      "metadata": {},
      "source": [
        "En lugar de simplemente crear el informe, la función también está calculando el promedio. Mejora la legibilidad extrayendo el cálculo promedio de la función en una nueva función para que el promedio se pueda hacer de forma independiente:"
      ]
    },
    {
      "cell_type": "code",
      "execution_count": 8,
      "metadata": {},
      "outputs": [],
      "source": [
        "# Función promedio \n",
        "def promedio(valores):\n",
        "    suma=sum(valores)\n",
        "    return suma/len(valores)"
      ]
    },
    {
      "cell_type": "markdown",
      "metadata": {},
      "source": [
        "Ahora actualiza la función de informes para llamando a la nueva función del promedio:\n"
      ]
    },
    {
      "cell_type": "code",
      "execution_count": 22,
      "metadata": {},
      "outputs": [
        {
          "name": "stdout",
          "output_type": "stream",
          "text": [
            "\n",
            "    tanque 1: 15\n",
            "    tanque 2: 15\n",
            "    tanque 3: 30\n",
            "    promedio: 20.0\n"
          ]
        }
      ],
      "source": [
        "# Actualiza la función\n",
        "def reportcombus (tanque1, tanque2, tanque3):\n",
        "    \n",
        "    return f\"\"\"\n",
        "    tanque 1: {tanque1}\n",
        "    tanque 2: {tanque2}\n",
        "    tanque 3: {tanque3}\n",
        "    promedio: {promedio([tanque1,tanque2,tanque3])}\"\"\"\n",
        "print(reportcombus(15,15,30))\n"
      ]
    },
    {
      "cell_type": "markdown",
      "metadata": {},
      "source": [
        "## Ejercicio 2: Trabajo con argumentos de palabra clave"
      ]
    },
    {
      "cell_type": "markdown",
      "metadata": {},
      "source": [
        "### Ejercicio : Trabajar con argumentos de palabras clave en funciones\n",
        "En este ejercicio, construirás un informe de cohete que requiere varias piezas de información, como el tiempo hasta el destino, el combustible a la izquierda y el nombre del destino. Comienza por crear una función que creará un informe preciso de la misión:"
      ]
    },
    {
      "cell_type": "code",
      "execution_count": null,
      "metadata": {},
      "outputs": [],
      "source": [
        "# Función con un informe preciso de la misión. Considera hora de prelanzamiento, tiempo de vuelo, destino, tanque externo y tanque interno\n",
        "def reportmision(hora,tiempovuelo,destino,tanqueex,tanquein):\n",
        "    return f\"\"\"\n",
        "    Hora de prelanzamiento: {hora}\n",
        "    Objetivo: {destino}\n",
        "    Tiempo de viaje: {hora + tiempovuelo}\n",
        "    Tanque externo: {tanqueex}\n",
        "    Tanque interno: {tanquein}\n",
        "    Total de combustible: {tanquein+tanqueex}\n",
        "    \"\"\""
      ]
    },
    {
      "cell_type": "markdown",
      "metadata": {},
      "source": [
        "La función es problemática porque no se puede adaptar para minutos adicionales o tanques adicionales de combustible. Hazlo más flexible permitiendo cualquier número de pasos basados en el tiempo y cualquier número de tanques. En lugar de usar `*args` y `**kwargs`, aprovecha el hecho de que puedes usar cualquier nombre que desees. Asegurate que la función sea más legible mediante el uso de nombres de variables que están asociados con las entradas, como `*minutes` y `**fuel_reservoirs`:"
      ]
    },
    {
      "cell_type": "code",
      "execution_count": null,
      "metadata": {},
      "outputs": [],
      "source": [
        "# Escribe tu nueva función de reporte considerando lo anterior\n",
        "def reportmision (hora,destino,*minutes,**fuel_reservoirs):\n",
        "    return f\"\"\"\n",
        "    Hora de prelanzamiento: {hora}\n",
        "    Objetivo: {destino}\n",
        "    Tiempo de viaje: {hora + sum(minutes)}\n",
        "    Total de combustible: {sum(fuel_reservoirs.values())}\n",
        "    \"\"\""
      ]
    },
    {
      "cell_type": "markdown",
      "metadata": {},
      "source": [
        "Debido a que el combustible que queda en los tanques es específico de cada tanque, actualiza la función para usar el nombre de cada tanque en el informe:"
      ]
    },
    {
      "cell_type": "code",
      "execution_count": 21,
      "metadata": {},
      "outputs": [
        {
          "name": "stdout",
          "output_type": "stream",
          "text": [
            "\n",
            "    Hora de prelanzamiento: 50\n",
            "    Objetivo: tierra\n",
            "    Tiempo de viaje: 80\n",
            "    Total de combustible: 900\n",
            "    Tanque interno: 300\n",
            "Tanque externo: 500\n",
            "Tanque auxiliar: 100\n",
            "\n"
          ]
        }
      ],
      "source": [
        "# Escribe tu nueva función\n",
        "def reportmision (hora,destino,*minutes,**fuel_reservoirs):\n",
        "    reporte= f\"\"\"\n",
        "    Hora de prelanzamiento: {hora}\n",
        "    Objetivo: {destino}\n",
        "    Tiempo de viaje: {hora + sum(minutes)}\n",
        "    Total de combustible: {sum(fuel_reservoirs.values())}\n",
        "    \"\"\"\n",
        "    for tanque , valor in fuel_reservoirs.items():\n",
        "        reporte = reporte + f\"Tanque {tanque}: {valor}\\n\"\n",
        "    return reporte\n",
        "\n",
        "print(reportmision(50,'tierra',10,10,10,interno=300,externo=500,auxiliar=100))"
      ]
    }
  ],
  "metadata": {
    "interpreter": {
      "hash": "205095b8b86ea82a021a8fc2ffba2b3bc9f8d0be25999901963b225939f75778"
    },
    "kernelspec": {
      "display_name": "Python 3.8.10 64-bit ('tmp': conda)",
      "name": "python3"
    },
    "language_info": {
      "codemirror_mode": {
        "name": "ipython",
        "version": 3
      },
      "file_extension": ".py",
      "mimetype": "text/x-python",
      "name": "python",
      "nbconvert_exporter": "python",
      "pygments_lexer": "ipython3",
      "version": "3.10.2"
    },
    "nteract": {
      "version": "nteract-front-end@1.0.0"
    },
    "orig_nbformat": 4
  },
  "nbformat": 4,
  "nbformat_minor": 2
}
